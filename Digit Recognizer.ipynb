{
 "cells": [
  {
   "cell_type": "code",
   "execution_count": 99,
   "metadata": {},
   "outputs": [],
   "source": [
    "import pandas as pd\n",
    "from numpy import argmax\n",
    "from sklearn.preprocessing import OneHotEncoder\n",
    "from sklearn.model_selection import train_test_split\n",
    "from keras.models import Sequential\n",
    "from keras.layers import Dense"
   ]
  },
  {
   "cell_type": "code",
   "execution_count": 100,
   "metadata": {},
   "outputs": [],
   "source": [
    "# prepare data - training\n",
    "data_frame = pd.read_csv('train.csv')\n",
    "data_matrix = data_frame.as_matrix()\n",
    "x_train = data_matrix[:,1:]\n",
    "y_train = data_matrix[:,0]\n",
    "X_train, X_test, y_train, y_test = train_test_split(x_train,y_train)\n",
    "#normalize\n",
    "X_train = X_train/255\n",
    "X_test = X_test/255"
   ]
  },
  {
   "cell_type": "code",
   "execution_count": 101,
   "metadata": {},
   "outputs": [],
   "source": [
    "# prepare data - testing\n",
    "test_data_frame = pd.read_csv('test.csv')\n",
    "test_data_matrix = test_data_frame.as_matrix()\n",
    "#normalize\n",
    "test = test_data_matrix/255"
   ]
  },
  {
   "cell_type": "code",
   "execution_count": 102,
   "metadata": {},
   "outputs": [],
   "source": [
    "# convert to categories binay matrix using One Hot encoder\n",
    "oneHotEncoder = OneHotEncoder(categorical_features=[0])\n",
    "y_train = oneHotEncoder.fit_transform(y_train.reshape(-1,1)).toarray()\n",
    "y_test = oneHotEncoder.fit_transform(y_test.reshape(-1,1)).toarray()"
   ]
  },
  {
   "cell_type": "code",
   "execution_count": 103,
   "metadata": {},
   "outputs": [
    {
     "name": "stdout",
     "output_type": "stream",
     "text": [
      "Epoch 1/10\n",
      "31500/31500 [==============================] - 16s 511us/step - loss: 0.5720 - acc: 0.8392\n",
      "Epoch 2/10\n",
      "31500/31500 [==============================] - 14s 456us/step - loss: 0.3228 - acc: 0.9068\n",
      "Epoch 3/10\n",
      "31500/31500 [==============================] - 14s 451us/step - loss: 0.3011 - acc: 0.9141\n",
      "Epoch 4/10\n",
      "31500/31500 [==============================] - 14s 458us/step - loss: 0.2908 - acc: 0.9210\n",
      "Epoch 5/10\n",
      "31500/31500 [==============================] - 15s 479us/step - loss: 0.2859 - acc: 0.9228\n",
      "Epoch 6/10\n",
      "31500/31500 [==============================] - 12s 396us/step - loss: 0.2825 - acc: 0.9237\n",
      "Epoch 7/10\n",
      "31500/31500 [==============================] - 14s 448us/step - loss: 0.2809 - acc: 0.9247\n",
      "Epoch 8/10\n",
      "31500/31500 [==============================] - 9s 281us/step - loss: 0.2787 - acc: 0.9256 4s - loss: 0.2793 - acc - ETA: 4s - loss: 0.2796 - - ETA: 3s - loss:  - ETA: 2s  - ETA: 1s - loss: \n",
      "Epoch 9/10\n",
      "31500/31500 [==============================] - 8s 264us/step - loss: 0.2748 - acc: 0.9267 0s - loss: 0.2760 - acc: 0\n",
      "Epoch 10/10\n",
      "31500/31500 [==============================] - 8s 248us/step - loss: 0.2767 - acc: 0.9275\n"
     ]
    },
    {
     "data": {
      "text/plain": [
       "<keras.callbacks.History at 0x1b89966efd0>"
      ]
     },
     "execution_count": 103,
     "metadata": {},
     "output_type": "execute_result"
    }
   ],
   "source": [
    "# Neural Network\n",
    "prediction_network = Sequential()\n",
    "prediction_network.add(Dense(units=10, kernel_initializer='uniform', activation='relu', input_dim=784))\n",
    "prediction_network.add(Dense(units=10, kernel_initializer='uniform', activation='softmax'))\n",
    "prediction_network.compile(optimizer='rmsprop', loss='categorical_crossentropy', metrics=['accuracy'])\n",
    "\n",
    "# Fitting model\n",
    "prediction_network.fit(X_train, y_train, batch_size=10, epochs=10)\n"
   ]
  },
  {
   "cell_type": "code",
   "execution_count": 104,
   "metadata": {},
   "outputs": [
    {
     "name": "stdout",
     "output_type": "stream",
     "text": [
      "10500/10500 [==============================] - 1s 84us/step\n",
      "Baseline Error Result: 7.90%\n"
     ]
    }
   ],
   "source": [
    "# evaluate model\n",
    "scores = prediction_network.evaluate(X_test, y_test)\n",
    "print(\"Baseline Error Result: %.2f%%\" % (100-scores[1]*100))"
   ]
  },
  {
   "cell_type": "code",
   "execution_count": null,
   "metadata": {},
   "outputs": [],
   "source": [
    "def one_hot_decode(encoded_seq):\n",
    "    for index, vector in enumerate(encoded_seq):\n",
    "            label = argmax(vector)\n",
    "            csv_row = {'ImageId':index,'Label':label}\n",
    "            df = pd.DataFrame(csv_row, index=[0])\n",
    "            with open('result.csv', 'a') as f:\n",
    "                df.to_csv(f, index=False, header=False)\n",
    "            f.close()\n",
    "            \n",
    "y_pred = prediction_network.predict(test)\n",
    "one_hot_decode(y_pred)"
   ]
  }
 ],
 "metadata": {
  "kernelspec": {
   "display_name": "Python 3",
   "language": "python",
   "name": "python3"
  },
  "language_info": {
   "codemirror_mode": {
    "name": "ipython",
    "version": 3
   },
   "file_extension": ".py",
   "mimetype": "text/x-python",
   "name": "python",
   "nbconvert_exporter": "python",
   "pygments_lexer": "ipython3",
   "version": "3.6.3"
  }
 },
 "nbformat": 4,
 "nbformat_minor": 2
}
